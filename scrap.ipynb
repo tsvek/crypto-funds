{
 "cells": [
  {
   "cell_type": "code",
   "execution_count": 33,
   "metadata": {},
   "outputs": [],
   "source": [
    "import requests\n",
    "\n",
    "from random import random\n",
    "from time import sleep "
   ]
  },
  {
   "cell_type": "markdown",
   "metadata": {},
   "source": [
    "All data comes from https://cryptorank.io/. It has API but there is no endpoint for me to target. So the data has to be parsed from the page."
   ]
  },
  {
   "cell_type": "code",
   "execution_count": 6,
   "metadata": {},
   "outputs": [],
   "source": [
    "headers = {\n",
    "     \"User-Agent\": \"Mozilla/5.0 (Windows NT 10.0; Win64; x64) AppleWebKit/537.36 (KHTML, like Gecko) Chrome/119.0.0.0 Safari/537.36\",\n",
    "     \"Accept\": \"text/html,application/xhtml+xml,application/xml;q=0.9,image/avif,image/webp,image/apng,*/*;q=0.8,application/signed-exchange;v=b3;q=0.7,json\", \n",
    "}\n"
   ]
  },
  {
   "cell_type": "code",
   "execution_count": 20,
   "metadata": {},
   "outputs": [],
   "source": [
    "# Use generator to save time and memory\n",
    "def my_generator(my_list):\n",
    "    for item in my_list:\n",
    "        yield item"
   ]
  },
  {
   "cell_type": "code",
   "execution_count": 46,
   "metadata": {},
   "outputs": [
    {
     "name": "stdout",
     "output_type": "stream",
     "text": [
      "Funds from page 1.0 added.\n",
      "Funds from page 2.0 added.\n",
      "Funds from page 3.0 added.\n",
      "Funds from page 4.0 added.\n",
      "Funds from page 5.0 added.\n",
      "Funds from page 6.0 added.\n",
      "Funds from page 7.0 added.\n",
      "Funds from page 8.0 added.\n",
      "Funds from page 9.0 added.\n",
      "Funds from page 10.0 added.\n",
      "Funds from page 11.0 added.\n",
      "Funds from page 12.0 added.\n",
      "Funds from page 13.0 added.\n",
      "Funds from page 14.0 added.\n",
      "Funds from page 15.0 added.\n",
      "Funds from page 16.0 added.\n",
      "Funds from page 17.0 added.\n",
      "Funds from page 18.0 added.\n",
      "Funds from page 19.0 added.\n",
      "Funds from page 20.0 added.\n",
      "Funds from page 21.0 added.\n",
      "Funds from page 22.0 added.\n",
      "Funds from page 23.0 added.\n",
      "Funds from page 24.0 added.\n",
      "Funds from page 25.0 added.\n",
      "Funds from page 26.0 added.\n",
      "Funds from page 27.0 added.\n",
      "Funds from page 28.0 added.\n",
      "Funds from page 29.0 added.\n",
      "Funds from page 30.0 added.\n",
      "Funds from page 31.0 added.\n",
      "Funds from page 32.0 added.\n",
      "Funds from page 33.0 added.\n",
      "Funds from page 34.0 added.\n",
      "Funds from page 35.0 added.\n",
      "Funds from page 36.0 added.\n",
      "Funds from page 37.0 added.\n",
      "Funds from page 38.0 added.\n",
      "Funds from page 39.0 added.\n",
      "Funds from page 40.0 added.\n",
      "Funds from page 41.0 added.\n",
      "Funds from page 42.0 added.\n",
      "Funds from page 43.0 added.\n",
      "Funds from page 44.0 added.\n",
      "Funds from page 45.0 added.\n",
      "Funds from page 46.0 added.\n",
      "Funds from page 47.0 added.\n",
      "Funds from page 48.0 added.\n",
      "Funds from page 49.0 added.\n",
      "Funds from page 50.0 added.\n",
      "Funds from page 51.0 added.\n",
      "Funds from page 52.0 added.\n",
      "Funds from page 53.0 added.\n",
      "Funds from page 54.0 added.\n",
      "Funds from page 55.0 added.\n",
      "Funds from page 56.0 added.\n",
      "Funds from page 57.0 added.\n",
      "Funds from page 58.0 added.\n",
      "Funds from page 59.0 added.\n",
      "Funds from page 60.0 added.\n",
      "Funds from page 61.0 added.\n",
      "Funds from page 62.0 added.\n",
      "Funds from page 63.0 added.\n",
      "Funds from page 64.0 added.\n",
      "Funds from page 65.0 added.\n",
      "Funds from page 66.0 added.\n",
      "Funds from page 67.0 added.\n",
      "Funds from page 68.0 added.\n",
      "Funds from page 69.0 added.\n",
      "Funds from page 70.0 added.\n",
      "Funds from page 71.0 added.\n",
      "Funds from page 72.0 added.\n",
      "Funds from page 73.0 added.\n",
      "Funds from page 74.0 added.\n",
      "Funds from page 75.0 added.\n",
      "Funds from page 76.0 added.\n",
      "Funds from page 77.0 added.\n",
      "Funds from page 78.0 added.\n",
      "Funds from page 79.0 added.\n",
      "Funds from page 80.0 added.\n",
      "Funds from page 81.0 added.\n",
      "Funds from page 82.0 added.\n",
      "Funds from page 83.0 added.\n",
      "Funds from page 84.0 added.\n",
      "Funds from page 85.0 added.\n",
      "Funds from page 86.0 added.\n",
      "Funds from page 87.0 added.\n",
      "Funds from page 88.0 added.\n",
      "Funds from page 89.0 added.\n",
      "Funds from page 90.0 added.\n"
     ]
    }
   ],
   "source": [
    "page_number = 0\n",
    "funds_info = list()\n",
    "while True:\n",
    "    url = f\"https://api.cryptorank.io/v0/funds?limit=100&offset={page_number}\"\n",
    "    response = requests.get(url=url, headers=headers)\n",
    "    total = response.json()[\"count\"]\n",
    "    if page_number > total:\n",
    "        break\n",
    "    page_number += 100\n",
    "    funds = my_generator(response.json()[\"data\"])\n",
    "\n",
    "    for fund in funds:\n",
    "        fund_info = {\n",
    "            \"id\": fund[\"id\"],\n",
    "            \"name\": fund[\"name\"],\n",
    "            \"location\": fund[\"location\"],\n",
    "            \"type\": fund[\"type\"],\n",
    "            \"tier\": fund[\"tier\"],\n",
    "            }\n",
    "        funds_info.append(fund_info)\n",
    "    print(f\"Funds from page {int(page_number/100)} added.\")"
   ]
  },
  {
   "cell_type": "code",
   "execution_count": 47,
   "metadata": {},
   "outputs": [
    {
     "data": {
      "text/plain": [
       "8934"
      ]
     },
     "execution_count": 47,
     "metadata": {},
     "output_type": "execute_result"
    }
   ],
   "source": [
    "len(funds_info)"
   ]
  },
  {
   "cell_type": "markdown",
   "metadata": {},
   "source": [
    "Super. Now we have data of all funds. Let's move on. For the next step we need "
   ]
  }
 ],
 "metadata": {
  "kernelspec": {
   "display_name": "Python 3",
   "language": "python",
   "name": "python3"
  },
  "language_info": {
   "codemirror_mode": {
    "name": "ipython",
    "version": 3
   },
   "file_extension": ".py",
   "mimetype": "text/x-python",
   "name": "python",
   "nbconvert_exporter": "python",
   "pygments_lexer": "ipython3",
   "version": "3.11.6"
  },
  "orig_nbformat": 4,
  "vscode": {
   "interpreter": {
    "hash": "f914b47a1d2322c6955fe43a4e8f39536fcae73929c73e7eb0236a66c28a53b4"
   }
  }
 },
 "nbformat": 4,
 "nbformat_minor": 2
}
